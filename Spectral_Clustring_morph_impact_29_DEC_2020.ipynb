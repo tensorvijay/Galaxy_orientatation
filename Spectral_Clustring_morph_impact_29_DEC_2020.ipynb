{
  "nbformat": 4,
  "nbformat_minor": 0,
  "metadata": {
    "colab": {
      "provenance": [],
      "mount_file_id": "1IODKei8DCIqhzG7gp7Cc2ScMDhbgJzND",
      "authorship_tag": "ABX9TyMQxTz178jbkKc107SuQ87f",
      "include_colab_link": true
    },
    "kernelspec": {
      "name": "python3",
      "display_name": "Python 3"
    }
  },
  "cells": [
    {
      "cell_type": "markdown",
      "metadata": {
        "id": "view-in-github",
        "colab_type": "text"
      },
      "source": [
        "<a href=\"https://colab.research.google.com/github/tensorvijay/Galaxy_orientatation/blob/main/Spectral_Clustring_morph_impact_29_DEC_2020.ipynb\" target=\"_parent\"><img src=\"https://colab.research.google.com/assets/colab-badge.svg\" alt=\"Open In Colab\"/></a>"
      ]
    },
    {
      "cell_type": "code",
      "metadata": {
        "id": "CRBkKppDN_r8"
      },
      "source": [
        "import glob as glob # helps in saving the files\n",
        "import numpy as np\n",
        "import pandas as pd\n",
        "import matplotlib.pyplot as plt\n",
        "import seaborn as sns"
      ],
      "execution_count": null,
      "outputs": []
    },
    {
      "cell_type": "code",
      "metadata": {
        "id": "43V9tEbOTfh5"
      },
      "source": [
        "files_load=np.load('/content/drive/My Drive/galaxy/Base_Line/files_array.npy') #load from saved space address of galaxies\n",
        "load_resall=np.load('/content/drive/My Drive/galaxy/Base_Line/components1.npy') #ncompnentclassificationofgalaxy\n",
        "array=load_resall.astype('int32')"
      ],
      "execution_count": null,
      "outputs": []
    },
    {
      "cell_type": "code",
      "metadata": {
        "id": "F35MHduoVING"
      },
      "source": [
        "C_CB_25=np.load('/content/drive/MyDrive/galaxy/GAL_25/C_CB_25.npy')"
      ],
      "execution_count": null,
      "outputs": []
    },
    {
      "cell_type": "code",
      "metadata": {
        "colab": {
          "base_uri": "https://localhost:8080/",
          "height": 35
        },
        "id": "y0Fl_2sNVuXd",
        "outputId": "07524980-d100-44fc-bdca-38634bbc16bd"
      },
      "source": [
        "C_CB_25[1]"
      ],
      "execution_count": null,
      "outputs": [
        {
          "output_type": "execute_result",
          "data": {
            "application/vnd.google.colaboratory.intrinsic+json": {
              "type": "string"
            },
            "text/plain": [
              "'../content/images_training_rev1/274199.jpg'"
            ]
          },
          "metadata": {
            "tags": []
          },
          "execution_count": 4
        }
      ]
    },
    {
      "cell_type": "code",
      "metadata": {
        "id": "lRCYdkcKV6Zy"
      },
      "source": [
        "def extind(address):\n",
        " csplit=address.split('/')[-1].split('.')[0]\n",
        " return csplit"
      ],
      "execution_count": null,
      "outputs": []
    },
    {
      "cell_type": "code",
      "metadata": {
        "id": "eYBs_eFIWErS"
      },
      "source": [
        "C_CB_25_ind=[]                     ### seperate the index from the addresss\n",
        "for i in C_CB_25:\n",
        " #print(extind(i))\n",
        " C_CB_25_ind.append(int(extind(i)))"
      ],
      "execution_count": null,
      "outputs": []
    },
    {
      "cell_type": "code",
      "metadata": {
        "colab": {
          "base_uri": "https://localhost:8080/"
        },
        "id": "YsRS7X6jX3uN",
        "outputId": "03b6c793-fefe-4527-faa5-0fb0100d211f"
      },
      "source": [
        "len(C_CB_25_ind)"
      ],
      "execution_count": null,
      "outputs": [
        {
          "output_type": "execute_result",
          "data": {
            "text/plain": [
              "1915"
            ]
          },
          "metadata": {
            "tags": []
          },
          "execution_count": 50
        }
      ]
    },
    {
      "cell_type": "code",
      "metadata": {
        "colab": {
          "base_uri": "https://localhost:8080/"
        },
        "id": "6xvpgupdX55b",
        "outputId": "3b4969f7-8435-428a-9a86-1ab98b5e91a6"
      },
      "source": [
        "C_CB_25_ind[2]"
      ],
      "execution_count": null,
      "outputs": [
        {
          "output_type": "execute_result",
          "data": {
            "text/plain": [
              "350073"
            ]
          },
          "metadata": {
            "tags": []
          },
          "execution_count": 37
        }
      ]
    },
    {
      "cell_type": "code",
      "metadata": {
        "id": "d7MtNtZ8X7_O"
      },
      "source": [
        "morph=pd.read_csv('/content/drive/MyDrive/galaxy/training_solutions_rev1.csv')"
      ],
      "execution_count": null,
      "outputs": []
    },
    {
      "cell_type": "code",
      "metadata": {
        "colab": {
          "base_uri": "https://localhost:8080/",
          "height": 224
        },
        "id": "y35_Jf85Zqwh",
        "outputId": "cbf4083a-3058-4bab-a3ab-ee4e46d7edee"
      },
      "source": [
        "morph.head()\n"
      ],
      "execution_count": null,
      "outputs": [
        {
          "output_type": "execute_result",
          "data": {
            "text/html": [
              "<div>\n",
              "<style scoped>\n",
              "    .dataframe tbody tr th:only-of-type {\n",
              "        vertical-align: middle;\n",
              "    }\n",
              "\n",
              "    .dataframe tbody tr th {\n",
              "        vertical-align: top;\n",
              "    }\n",
              "\n",
              "    .dataframe thead th {\n",
              "        text-align: right;\n",
              "    }\n",
              "</style>\n",
              "<table border=\"1\" class=\"dataframe\">\n",
              "  <thead>\n",
              "    <tr style=\"text-align: right;\">\n",
              "      <th></th>\n",
              "      <th>GalaxyID</th>\n",
              "      <th>Class1.1</th>\n",
              "      <th>Class1.2</th>\n",
              "      <th>Class1.3</th>\n",
              "      <th>Class2.1</th>\n",
              "      <th>Class2.2</th>\n",
              "      <th>Class3.1</th>\n",
              "      <th>Class3.2</th>\n",
              "      <th>Class4.1</th>\n",
              "      <th>Class4.2</th>\n",
              "      <th>Class5.1</th>\n",
              "      <th>Class5.2</th>\n",
              "      <th>Class5.3</th>\n",
              "      <th>Class5.4</th>\n",
              "      <th>Class6.1</th>\n",
              "      <th>Class6.2</th>\n",
              "      <th>Class7.1</th>\n",
              "      <th>Class7.2</th>\n",
              "      <th>Class7.3</th>\n",
              "      <th>Class8.1</th>\n",
              "      <th>Class8.2</th>\n",
              "      <th>Class8.3</th>\n",
              "      <th>Class8.4</th>\n",
              "      <th>Class8.5</th>\n",
              "      <th>Class8.6</th>\n",
              "      <th>Class8.7</th>\n",
              "      <th>Class9.1</th>\n",
              "      <th>Class9.2</th>\n",
              "      <th>Class9.3</th>\n",
              "      <th>Class10.1</th>\n",
              "      <th>Class10.2</th>\n",
              "      <th>Class10.3</th>\n",
              "      <th>Class11.1</th>\n",
              "      <th>Class11.2</th>\n",
              "      <th>Class11.3</th>\n",
              "      <th>Class11.4</th>\n",
              "      <th>Class11.5</th>\n",
              "      <th>Class11.6</th>\n",
              "    </tr>\n",
              "  </thead>\n",
              "  <tbody>\n",
              "    <tr>\n",
              "      <th>0</th>\n",
              "      <td>100008</td>\n",
              "      <td>0.383147</td>\n",
              "      <td>0.616853</td>\n",
              "      <td>0.000000</td>\n",
              "      <td>0.000000</td>\n",
              "      <td>0.616853</td>\n",
              "      <td>0.038452</td>\n",
              "      <td>0.578401</td>\n",
              "      <td>0.418398</td>\n",
              "      <td>0.198455</td>\n",
              "      <td>0.0</td>\n",
              "      <td>0.104752</td>\n",
              "      <td>0.512101</td>\n",
              "      <td>0.000000</td>\n",
              "      <td>0.054453</td>\n",
              "      <td>0.945547</td>\n",
              "      <td>0.201463</td>\n",
              "      <td>0.181684</td>\n",
              "      <td>0.000000</td>\n",
              "      <td>0.0</td>\n",
              "      <td>0.027226</td>\n",
              "      <td>0.000000</td>\n",
              "      <td>0.027226</td>\n",
              "      <td>0.000000</td>\n",
              "      <td>0.000000</td>\n",
              "      <td>0.0</td>\n",
              "      <td>0.000000</td>\n",
              "      <td>0.0</td>\n",
              "      <td>0.000000</td>\n",
              "      <td>0.279952</td>\n",
              "      <td>0.138445</td>\n",
              "      <td>0.000000</td>\n",
              "      <td>0.000000</td>\n",
              "      <td>0.092886</td>\n",
              "      <td>0.0</td>\n",
              "      <td>0.0</td>\n",
              "      <td>0.0</td>\n",
              "      <td>0.325512</td>\n",
              "    </tr>\n",
              "    <tr>\n",
              "      <th>1</th>\n",
              "      <td>100023</td>\n",
              "      <td>0.327001</td>\n",
              "      <td>0.663777</td>\n",
              "      <td>0.009222</td>\n",
              "      <td>0.031178</td>\n",
              "      <td>0.632599</td>\n",
              "      <td>0.467370</td>\n",
              "      <td>0.165229</td>\n",
              "      <td>0.591328</td>\n",
              "      <td>0.041271</td>\n",
              "      <td>0.0</td>\n",
              "      <td>0.236781</td>\n",
              "      <td>0.160941</td>\n",
              "      <td>0.234877</td>\n",
              "      <td>0.189149</td>\n",
              "      <td>0.810851</td>\n",
              "      <td>0.000000</td>\n",
              "      <td>0.135082</td>\n",
              "      <td>0.191919</td>\n",
              "      <td>0.0</td>\n",
              "      <td>0.000000</td>\n",
              "      <td>0.140353</td>\n",
              "      <td>0.000000</td>\n",
              "      <td>0.048796</td>\n",
              "      <td>0.000000</td>\n",
              "      <td>0.0</td>\n",
              "      <td>0.012414</td>\n",
              "      <td>0.0</td>\n",
              "      <td>0.018764</td>\n",
              "      <td>0.000000</td>\n",
              "      <td>0.131378</td>\n",
              "      <td>0.459950</td>\n",
              "      <td>0.000000</td>\n",
              "      <td>0.591328</td>\n",
              "      <td>0.0</td>\n",
              "      <td>0.0</td>\n",
              "      <td>0.0</td>\n",
              "      <td>0.000000</td>\n",
              "    </tr>\n",
              "    <tr>\n",
              "      <th>2</th>\n",
              "      <td>100053</td>\n",
              "      <td>0.765717</td>\n",
              "      <td>0.177352</td>\n",
              "      <td>0.056931</td>\n",
              "      <td>0.000000</td>\n",
              "      <td>0.177352</td>\n",
              "      <td>0.000000</td>\n",
              "      <td>0.177352</td>\n",
              "      <td>0.000000</td>\n",
              "      <td>0.177352</td>\n",
              "      <td>0.0</td>\n",
              "      <td>0.117790</td>\n",
              "      <td>0.059562</td>\n",
              "      <td>0.000000</td>\n",
              "      <td>0.000000</td>\n",
              "      <td>1.000000</td>\n",
              "      <td>0.000000</td>\n",
              "      <td>0.741864</td>\n",
              "      <td>0.023853</td>\n",
              "      <td>0.0</td>\n",
              "      <td>0.000000</td>\n",
              "      <td>0.000000</td>\n",
              "      <td>0.000000</td>\n",
              "      <td>0.000000</td>\n",
              "      <td>0.000000</td>\n",
              "      <td>0.0</td>\n",
              "      <td>0.000000</td>\n",
              "      <td>0.0</td>\n",
              "      <td>0.000000</td>\n",
              "      <td>0.000000</td>\n",
              "      <td>0.000000</td>\n",
              "      <td>0.000000</td>\n",
              "      <td>0.000000</td>\n",
              "      <td>0.000000</td>\n",
              "      <td>0.0</td>\n",
              "      <td>0.0</td>\n",
              "      <td>0.0</td>\n",
              "      <td>0.000000</td>\n",
              "    </tr>\n",
              "    <tr>\n",
              "      <th>3</th>\n",
              "      <td>100078</td>\n",
              "      <td>0.693377</td>\n",
              "      <td>0.238564</td>\n",
              "      <td>0.068059</td>\n",
              "      <td>0.000000</td>\n",
              "      <td>0.238564</td>\n",
              "      <td>0.109493</td>\n",
              "      <td>0.129071</td>\n",
              "      <td>0.189098</td>\n",
              "      <td>0.049466</td>\n",
              "      <td>0.0</td>\n",
              "      <td>0.000000</td>\n",
              "      <td>0.113284</td>\n",
              "      <td>0.125280</td>\n",
              "      <td>0.320398</td>\n",
              "      <td>0.679602</td>\n",
              "      <td>0.408599</td>\n",
              "      <td>0.284778</td>\n",
              "      <td>0.000000</td>\n",
              "      <td>0.0</td>\n",
              "      <td>0.000000</td>\n",
              "      <td>0.096119</td>\n",
              "      <td>0.096119</td>\n",
              "      <td>0.000000</td>\n",
              "      <td>0.128159</td>\n",
              "      <td>0.0</td>\n",
              "      <td>0.000000</td>\n",
              "      <td>0.0</td>\n",
              "      <td>0.000000</td>\n",
              "      <td>0.094549</td>\n",
              "      <td>0.000000</td>\n",
              "      <td>0.094549</td>\n",
              "      <td>0.189098</td>\n",
              "      <td>0.000000</td>\n",
              "      <td>0.0</td>\n",
              "      <td>0.0</td>\n",
              "      <td>0.0</td>\n",
              "      <td>0.000000</td>\n",
              "    </tr>\n",
              "    <tr>\n",
              "      <th>4</th>\n",
              "      <td>100090</td>\n",
              "      <td>0.933839</td>\n",
              "      <td>0.000000</td>\n",
              "      <td>0.066161</td>\n",
              "      <td>0.000000</td>\n",
              "      <td>0.000000</td>\n",
              "      <td>0.000000</td>\n",
              "      <td>0.000000</td>\n",
              "      <td>0.000000</td>\n",
              "      <td>0.000000</td>\n",
              "      <td>0.0</td>\n",
              "      <td>0.000000</td>\n",
              "      <td>0.000000</td>\n",
              "      <td>0.000000</td>\n",
              "      <td>0.029383</td>\n",
              "      <td>0.970617</td>\n",
              "      <td>0.494587</td>\n",
              "      <td>0.439252</td>\n",
              "      <td>0.000000</td>\n",
              "      <td>0.0</td>\n",
              "      <td>0.000000</td>\n",
              "      <td>0.000000</td>\n",
              "      <td>0.000000</td>\n",
              "      <td>0.000000</td>\n",
              "      <td>0.029383</td>\n",
              "      <td>0.0</td>\n",
              "      <td>0.000000</td>\n",
              "      <td>0.0</td>\n",
              "      <td>0.000000</td>\n",
              "      <td>0.000000</td>\n",
              "      <td>0.000000</td>\n",
              "      <td>0.000000</td>\n",
              "      <td>0.000000</td>\n",
              "      <td>0.000000</td>\n",
              "      <td>0.0</td>\n",
              "      <td>0.0</td>\n",
              "      <td>0.0</td>\n",
              "      <td>0.000000</td>\n",
              "    </tr>\n",
              "  </tbody>\n",
              "</table>\n",
              "</div>"
            ],
            "text/plain": [
              "   GalaxyID  Class1.1  Class1.2  ...  Class11.4  Class11.5  Class11.6\n",
              "0    100008  0.383147  0.616853  ...        0.0        0.0   0.325512\n",
              "1    100023  0.327001  0.663777  ...        0.0        0.0   0.000000\n",
              "2    100053  0.765717  0.177352  ...        0.0        0.0   0.000000\n",
              "3    100078  0.693377  0.238564  ...        0.0        0.0   0.000000\n",
              "4    100090  0.933839  0.000000  ...        0.0        0.0   0.000000\n",
              "\n",
              "[5 rows x 38 columns]"
            ]
          },
          "metadata": {
            "tags": []
          },
          "execution_count": 9
        }
      ]
    },
    {
      "cell_type": "code",
      "metadata": {
        "id": "mYMg_Yg1Zr-a"
      },
      "source": [
        "morph1=morph[['GalaxyID','Class7.1', 'Class7.2','Class2.1','Class7.3','Class2.2']]"
      ],
      "execution_count": null,
      "outputs": []
    },
    {
      "cell_type": "code",
      "metadata": {
        "colab": {
          "base_uri": "https://localhost:8080/",
          "height": 204
        },
        "id": "uBEV5AZrBYhX",
        "outputId": "e35dd753-53dd-4cdf-dc31-76e20e921d26"
      },
      "source": [
        "morph1.head()"
      ],
      "execution_count": null,
      "outputs": [
        {
          "output_type": "execute_result",
          "data": {
            "text/html": [
              "<div>\n",
              "<style scoped>\n",
              "    .dataframe tbody tr th:only-of-type {\n",
              "        vertical-align: middle;\n",
              "    }\n",
              "\n",
              "    .dataframe tbody tr th {\n",
              "        vertical-align: top;\n",
              "    }\n",
              "\n",
              "    .dataframe thead th {\n",
              "        text-align: right;\n",
              "    }\n",
              "</style>\n",
              "<table border=\"1\" class=\"dataframe\">\n",
              "  <thead>\n",
              "    <tr style=\"text-align: right;\">\n",
              "      <th></th>\n",
              "      <th>GalaxyID</th>\n",
              "      <th>Class7.1</th>\n",
              "      <th>Class7.2</th>\n",
              "      <th>Class2.1</th>\n",
              "      <th>Class7.3</th>\n",
              "      <th>Class2.2</th>\n",
              "    </tr>\n",
              "  </thead>\n",
              "  <tbody>\n",
              "    <tr>\n",
              "      <th>0</th>\n",
              "      <td>100008</td>\n",
              "      <td>0.201463</td>\n",
              "      <td>0.181684</td>\n",
              "      <td>0.000000</td>\n",
              "      <td>0.000000</td>\n",
              "      <td>0.616853</td>\n",
              "    </tr>\n",
              "    <tr>\n",
              "      <th>1</th>\n",
              "      <td>100023</td>\n",
              "      <td>0.000000</td>\n",
              "      <td>0.135082</td>\n",
              "      <td>0.031178</td>\n",
              "      <td>0.191919</td>\n",
              "      <td>0.632599</td>\n",
              "    </tr>\n",
              "    <tr>\n",
              "      <th>2</th>\n",
              "      <td>100053</td>\n",
              "      <td>0.000000</td>\n",
              "      <td>0.741864</td>\n",
              "      <td>0.000000</td>\n",
              "      <td>0.023853</td>\n",
              "      <td>0.177352</td>\n",
              "    </tr>\n",
              "    <tr>\n",
              "      <th>3</th>\n",
              "      <td>100078</td>\n",
              "      <td>0.408599</td>\n",
              "      <td>0.284778</td>\n",
              "      <td>0.000000</td>\n",
              "      <td>0.000000</td>\n",
              "      <td>0.238564</td>\n",
              "    </tr>\n",
              "    <tr>\n",
              "      <th>4</th>\n",
              "      <td>100090</td>\n",
              "      <td>0.494587</td>\n",
              "      <td>0.439252</td>\n",
              "      <td>0.000000</td>\n",
              "      <td>0.000000</td>\n",
              "      <td>0.000000</td>\n",
              "    </tr>\n",
              "  </tbody>\n",
              "</table>\n",
              "</div>"
            ],
            "text/plain": [
              "   GalaxyID  Class7.1  Class7.2  Class2.1  Class7.3  Class2.2\n",
              "0    100008  0.201463  0.181684  0.000000  0.000000  0.616853\n",
              "1    100023  0.000000  0.135082  0.031178  0.191919  0.632599\n",
              "2    100053  0.000000  0.741864  0.000000  0.023853  0.177352\n",
              "3    100078  0.408599  0.284778  0.000000  0.000000  0.238564\n",
              "4    100090  0.494587  0.439252  0.000000  0.000000  0.000000"
            ]
          },
          "metadata": {
            "tags": []
          },
          "execution_count": 21
        }
      ]
    },
    {
      "cell_type": "code",
      "metadata": {
        "id": "Ymro5p_7YJVl"
      },
      "source": [
        "morph2= morph1.drop('GalaxyID',axis=1)  #Get maximum Index"
      ],
      "execution_count": null,
      "outputs": []
    },
    {
      "cell_type": "code",
      "metadata": {
        "colab": {
          "base_uri": "https://localhost:8080/",
          "height": 204
        },
        "id": "RH7dVUPUYiVO",
        "outputId": "5f39ef4f-0e71-4656-f4e2-22d031e6e784"
      },
      "source": [
        "morph2.head()\n"
      ],
      "execution_count": null,
      "outputs": [
        {
          "output_type": "execute_result",
          "data": {
            "text/html": [
              "<div>\n",
              "<style scoped>\n",
              "    .dataframe tbody tr th:only-of-type {\n",
              "        vertical-align: middle;\n",
              "    }\n",
              "\n",
              "    .dataframe tbody tr th {\n",
              "        vertical-align: top;\n",
              "    }\n",
              "\n",
              "    .dataframe thead th {\n",
              "        text-align: right;\n",
              "    }\n",
              "</style>\n",
              "<table border=\"1\" class=\"dataframe\">\n",
              "  <thead>\n",
              "    <tr style=\"text-align: right;\">\n",
              "      <th></th>\n",
              "      <th>Class7.1</th>\n",
              "      <th>Class7.2</th>\n",
              "      <th>Class2.1</th>\n",
              "      <th>Class7.3</th>\n",
              "      <th>Class2.2</th>\n",
              "    </tr>\n",
              "  </thead>\n",
              "  <tbody>\n",
              "    <tr>\n",
              "      <th>0</th>\n",
              "      <td>0.201463</td>\n",
              "      <td>0.181684</td>\n",
              "      <td>0.000000</td>\n",
              "      <td>0.000000</td>\n",
              "      <td>0.616853</td>\n",
              "    </tr>\n",
              "    <tr>\n",
              "      <th>1</th>\n",
              "      <td>0.000000</td>\n",
              "      <td>0.135082</td>\n",
              "      <td>0.031178</td>\n",
              "      <td>0.191919</td>\n",
              "      <td>0.632599</td>\n",
              "    </tr>\n",
              "    <tr>\n",
              "      <th>2</th>\n",
              "      <td>0.000000</td>\n",
              "      <td>0.741864</td>\n",
              "      <td>0.000000</td>\n",
              "      <td>0.023853</td>\n",
              "      <td>0.177352</td>\n",
              "    </tr>\n",
              "    <tr>\n",
              "      <th>3</th>\n",
              "      <td>0.408599</td>\n",
              "      <td>0.284778</td>\n",
              "      <td>0.000000</td>\n",
              "      <td>0.000000</td>\n",
              "      <td>0.238564</td>\n",
              "    </tr>\n",
              "    <tr>\n",
              "      <th>4</th>\n",
              "      <td>0.494587</td>\n",
              "      <td>0.439252</td>\n",
              "      <td>0.000000</td>\n",
              "      <td>0.000000</td>\n",
              "      <td>0.000000</td>\n",
              "    </tr>\n",
              "  </tbody>\n",
              "</table>\n",
              "</div>"
            ],
            "text/plain": [
              "   Class7.1  Class7.2  Class2.1  Class7.3  Class2.2\n",
              "0  0.201463  0.181684  0.000000  0.000000  0.616853\n",
              "1  0.000000  0.135082  0.031178  0.191919  0.632599\n",
              "2  0.000000  0.741864  0.000000  0.023853  0.177352\n",
              "3  0.408599  0.284778  0.000000  0.000000  0.238564\n",
              "4  0.494587  0.439252  0.000000  0.000000  0.000000"
            ]
          },
          "metadata": {
            "tags": []
          },
          "execution_count": 23
        }
      ]
    },
    {
      "cell_type": "code",
      "metadata": {
        "id": "n4wTD3yAY_d8"
      },
      "source": [
        "colmax=morph2.idxmax(axis=1)"
      ],
      "execution_count": null,
      "outputs": []
    },
    {
      "cell_type": "code",
      "metadata": {
        "colab": {
          "base_uri": "https://localhost:8080/"
        },
        "id": "x9ThbSlFZG8p",
        "outputId": "13306803-98c0-45c3-cc1b-0da3ce96d7e1"
      },
      "source": [
        "colmax.head()"
      ],
      "execution_count": null,
      "outputs": [
        {
          "output_type": "execute_result",
          "data": {
            "text/plain": [
              "0    Class2.2\n",
              "1    Class2.2\n",
              "2    Class7.2\n",
              "3    Class7.1\n",
              "4    Class7.1\n",
              "dtype: object"
            ]
          },
          "metadata": {
            "tags": []
          },
          "execution_count": 25
        }
      ]
    },
    {
      "cell_type": "code",
      "metadata": {
        "id": "rHSMhOMfsbzq"
      },
      "source": [
        "colmax.column=['max']"
      ],
      "execution_count": null,
      "outputs": []
    },
    {
      "cell_type": "code",
      "metadata": {
        "colab": {
          "base_uri": "https://localhost:8080/"
        },
        "id": "siDGGKZNZqBD",
        "outputId": "49effe15-986f-40d0-fd12-fd1abb9da133"
      },
      "source": [
        "colmax.count()"
      ],
      "execution_count": null,
      "outputs": [
        {
          "output_type": "execute_result",
          "data": {
            "text/plain": [
              "61578"
            ]
          },
          "metadata": {
            "tags": []
          },
          "execution_count": 27
        }
      ]
    },
    {
      "cell_type": "code",
      "metadata": {
        "id": "vP2sqklOaJZY"
      },
      "source": [
        "galid=morph['GalaxyID']"
      ],
      "execution_count": null,
      "outputs": []
    },
    {
      "cell_type": "code",
      "metadata": {
        "colab": {
          "base_uri": "https://localhost:8080/"
        },
        "id": "nO7it9KRplPX",
        "outputId": "be072316-bb18-4ddd-9bb0-a54fd6c0bf93"
      },
      "source": [
        "galid.count()"
      ],
      "execution_count": null,
      "outputs": [
        {
          "output_type": "execute_result",
          "data": {
            "text/plain": [
              "61578"
            ]
          },
          "metadata": {
            "tags": []
          },
          "execution_count": 30
        }
      ]
    },
    {
      "cell_type": "code",
      "metadata": {
        "colab": {
          "base_uri": "https://localhost:8080/"
        },
        "id": "pHazQUgVpqbT",
        "outputId": "5c56c22a-9555-426b-9168-4addd57afb61"
      },
      "source": [
        "galid.head()"
      ],
      "execution_count": null,
      "outputs": [
        {
          "output_type": "execute_result",
          "data": {
            "text/plain": [
              "0    100008\n",
              "1    100023\n",
              "2    100053\n",
              "3    100078\n",
              "4    100090\n",
              "Name: GalaxyID, dtype: int64"
            ]
          },
          "metadata": {
            "tags": []
          },
          "execution_count": 31
        }
      ]
    },
    {
      "cell_type": "code",
      "metadata": {
        "id": "uaLsa7T2pwai"
      },
      "source": [
        "result =pd.concat([galid,colmax],axis=1)  #join two dataframes"
      ],
      "execution_count": null,
      "outputs": []
    },
    {
      "cell_type": "code",
      "metadata": {
        "colab": {
          "base_uri": "https://localhost:8080/",
          "height": 204
        },
        "id": "ysb5mm8mrCXP",
        "outputId": "945fc0c8-883a-4241-84c3-4f6b1f03f35b"
      },
      "source": [
        "result.head()"
      ],
      "execution_count": null,
      "outputs": [
        {
          "output_type": "execute_result",
          "data": {
            "text/html": [
              "<div>\n",
              "<style scoped>\n",
              "    .dataframe tbody tr th:only-of-type {\n",
              "        vertical-align: middle;\n",
              "    }\n",
              "\n",
              "    .dataframe tbody tr th {\n",
              "        vertical-align: top;\n",
              "    }\n",
              "\n",
              "    .dataframe thead th {\n",
              "        text-align: right;\n",
              "    }\n",
              "</style>\n",
              "<table border=\"1\" class=\"dataframe\">\n",
              "  <thead>\n",
              "    <tr style=\"text-align: right;\">\n",
              "      <th></th>\n",
              "      <th>GalaxyID</th>\n",
              "      <th>0</th>\n",
              "    </tr>\n",
              "  </thead>\n",
              "  <tbody>\n",
              "    <tr>\n",
              "      <th>0</th>\n",
              "      <td>100008</td>\n",
              "      <td>Class2.2</td>\n",
              "    </tr>\n",
              "    <tr>\n",
              "      <th>1</th>\n",
              "      <td>100023</td>\n",
              "      <td>Class2.2</td>\n",
              "    </tr>\n",
              "    <tr>\n",
              "      <th>2</th>\n",
              "      <td>100053</td>\n",
              "      <td>Class7.2</td>\n",
              "    </tr>\n",
              "    <tr>\n",
              "      <th>3</th>\n",
              "      <td>100078</td>\n",
              "      <td>Class7.1</td>\n",
              "    </tr>\n",
              "    <tr>\n",
              "      <th>4</th>\n",
              "      <td>100090</td>\n",
              "      <td>Class7.1</td>\n",
              "    </tr>\n",
              "  </tbody>\n",
              "</table>\n",
              "</div>"
            ],
            "text/plain": [
              "   GalaxyID         0\n",
              "0    100008  Class2.2\n",
              "1    100023  Class2.2\n",
              "2    100053  Class7.2\n",
              "3    100078  Class7.1\n",
              "4    100090  Class7.1"
            ]
          },
          "metadata": {
            "tags": []
          },
          "execution_count": 33
        }
      ]
    },
    {
      "cell_type": "code",
      "metadata": {
        "colab": {
          "base_uri": "https://localhost:8080/",
          "height": 419
        },
        "id": "Y4SDLPg6rEV8",
        "outputId": "affc4581-8029-467b-88ad-5db2d08d941d"
      },
      "source": [
        "result.rename(columns={0:'GalaxyCLASS'})"
      ],
      "execution_count": null,
      "outputs": [
        {
          "output_type": "execute_result",
          "data": {
            "text/html": [
              "<div>\n",
              "<style scoped>\n",
              "    .dataframe tbody tr th:only-of-type {\n",
              "        vertical-align: middle;\n",
              "    }\n",
              "\n",
              "    .dataframe tbody tr th {\n",
              "        vertical-align: top;\n",
              "    }\n",
              "\n",
              "    .dataframe thead th {\n",
              "        text-align: right;\n",
              "    }\n",
              "</style>\n",
              "<table border=\"1\" class=\"dataframe\">\n",
              "  <thead>\n",
              "    <tr style=\"text-align: right;\">\n",
              "      <th></th>\n",
              "      <th>GalaxyID</th>\n",
              "      <th>GalaxyCLASS</th>\n",
              "    </tr>\n",
              "  </thead>\n",
              "  <tbody>\n",
              "    <tr>\n",
              "      <th>0</th>\n",
              "      <td>100008</td>\n",
              "      <td>Class2.2</td>\n",
              "    </tr>\n",
              "    <tr>\n",
              "      <th>1</th>\n",
              "      <td>100023</td>\n",
              "      <td>Class2.2</td>\n",
              "    </tr>\n",
              "    <tr>\n",
              "      <th>2</th>\n",
              "      <td>100053</td>\n",
              "      <td>Class7.2</td>\n",
              "    </tr>\n",
              "    <tr>\n",
              "      <th>3</th>\n",
              "      <td>100078</td>\n",
              "      <td>Class7.1</td>\n",
              "    </tr>\n",
              "    <tr>\n",
              "      <th>4</th>\n",
              "      <td>100090</td>\n",
              "      <td>Class7.1</td>\n",
              "    </tr>\n",
              "    <tr>\n",
              "      <th>...</th>\n",
              "      <td>...</td>\n",
              "      <td>...</td>\n",
              "    </tr>\n",
              "    <tr>\n",
              "      <th>61573</th>\n",
              "      <td>999948</td>\n",
              "      <td>Class2.2</td>\n",
              "    </tr>\n",
              "    <tr>\n",
              "      <th>61574</th>\n",
              "      <td>999950</td>\n",
              "      <td>Class7.2</td>\n",
              "    </tr>\n",
              "    <tr>\n",
              "      <th>61575</th>\n",
              "      <td>999958</td>\n",
              "      <td>Class2.2</td>\n",
              "    </tr>\n",
              "    <tr>\n",
              "      <th>61576</th>\n",
              "      <td>999964</td>\n",
              "      <td>Class2.2</td>\n",
              "    </tr>\n",
              "    <tr>\n",
              "      <th>61577</th>\n",
              "      <td>999967</td>\n",
              "      <td>Class7.2</td>\n",
              "    </tr>\n",
              "  </tbody>\n",
              "</table>\n",
              "<p>61578 rows × 2 columns</p>\n",
              "</div>"
            ],
            "text/plain": [
              "       GalaxyID GalaxyCLASS\n",
              "0        100008    Class2.2\n",
              "1        100023    Class2.2\n",
              "2        100053    Class7.2\n",
              "3        100078    Class7.1\n",
              "4        100090    Class7.1\n",
              "...         ...         ...\n",
              "61573    999948    Class2.2\n",
              "61574    999950    Class7.2\n",
              "61575    999958    Class2.2\n",
              "61576    999964    Class2.2\n",
              "61577    999967    Class7.2\n",
              "\n",
              "[61578 rows x 2 columns]"
            ]
          },
          "metadata": {
            "tags": []
          },
          "execution_count": 34
        }
      ]
    },
    {
      "cell_type": "code",
      "metadata": {
        "id": "4POod8AqunMD"
      },
      "source": [
        "seper = result.to_numpy()"
      ],
      "execution_count": null,
      "outputs": []
    },
    {
      "cell_type": "code",
      "metadata": {
        "colab": {
          "base_uri": "https://localhost:8080/"
        },
        "id": "feAE9zpk9oAM",
        "outputId": "9c78838e-7e41-41e7-b339-cd65e0de0082"
      },
      "source": [
        "seper.shape"
      ],
      "execution_count": null,
      "outputs": [
        {
          "output_type": "execute_result",
          "data": {
            "text/plain": [
              "(61578, 2)"
            ]
          },
          "metadata": {
            "tags": []
          },
          "execution_count": 36
        }
      ]
    },
    {
      "cell_type": "code",
      "metadata": {
        "colab": {
          "base_uri": "https://localhost:8080/"
        },
        "id": "C4mL6bpK-SXT",
        "outputId": "ced1f4ae-6e7c-4257-bbf9-6881e1294771"
      },
      "source": [
        "seper\n"
      ],
      "execution_count": null,
      "outputs": [
        {
          "output_type": "execute_result",
          "data": {
            "text/plain": [
              "array([[100008, 'Class2.2'],\n",
              "       [100023, 'Class2.2'],\n",
              "       [100053, 'Class7.2'],\n",
              "       ...,\n",
              "       [999958, 'Class2.2'],\n",
              "       [999964, 'Class2.2'],\n",
              "       [999967, 'Class7.2']], dtype=object)"
            ]
          },
          "metadata": {
            "tags": []
          },
          "execution_count": 38
        }
      ]
    },
    {
      "cell_type": "code",
      "metadata": {
        "id": "jvMYAjov-VXa"
      },
      "source": [
        "sep=[]\n",
        "for i in C_CB_25_ind:\n",
        "  for j in seper:\n",
        "   if i == j[0]:\n",
        "     sep.append(j[1])"
      ],
      "execution_count": null,
      "outputs": []
    },
    {
      "cell_type": "code",
      "metadata": {
        "colab": {
          "base_uri": "https://localhost:8080/"
        },
        "id": "iFgrIa6e-pjE",
        "outputId": "659df49c-947a-4670-98a9-7036e4256513"
      },
      "source": [
        "len(sep)\n"
      ],
      "execution_count": null,
      "outputs": [
        {
          "output_type": "execute_result",
          "data": {
            "text/plain": [
              "1915"
            ]
          },
          "metadata": {
            "tags": []
          },
          "execution_count": 40
        }
      ]
    },
    {
      "cell_type": "code",
      "metadata": {
        "colab": {
          "base_uri": "https://localhost:8080/"
        },
        "id": "5JJCAWRlALlT",
        "outputId": "9fd98ba6-d424-4a62-ac91-4ea6f4f9bde3"
      },
      "source": [
        "len(C_CB_25_ind)"
      ],
      "execution_count": null,
      "outputs": [
        {
          "output_type": "execute_result",
          "data": {
            "text/plain": [
              "1915"
            ]
          },
          "metadata": {
            "tags": []
          },
          "execution_count": 41
        }
      ]
    },
    {
      "cell_type": "code",
      "metadata": {
        "colab": {
          "base_uri": "https://localhost:8080/",
          "height": 35
        },
        "id": "hUmakm-DAOrU",
        "outputId": "c300fd77-2e7b-4722-d022-fc331315efea"
      },
      "source": [
        "sep[1]"
      ],
      "execution_count": null,
      "outputs": [
        {
          "output_type": "execute_result",
          "data": {
            "application/vnd.google.colaboratory.intrinsic+json": {
              "type": "string"
            },
            "text/plain": [
              "'Class7.2'"
            ]
          },
          "metadata": {
            "tags": []
          },
          "execution_count": 42
        }
      ]
    },
    {
      "cell_type": "code",
      "metadata": {
        "id": "Uwf8cuPAIOiS"
      },
      "source": [
        "cl,freq=np.unique(sep,return_counts=True)"
      ],
      "execution_count": null,
      "outputs": []
    },
    {
      "cell_type": "code",
      "metadata": {
        "colab": {
          "base_uri": "https://localhost:8080/",
          "height": 282
        },
        "id": "ZkFuubo1IfA4",
        "outputId": "499c86d6-eaee-4c04-c131-462184f75f40"
      },
      "source": [
        "plt.plot(cl,freq)"
      ],
      "execution_count": null,
      "outputs": [
        {
          "output_type": "execute_result",
          "data": {
            "text/plain": [
              "[<matplotlib.lines.Line2D at 0x7ff1da9ec320>]"
            ]
          },
          "metadata": {
            "tags": []
          },
          "execution_count": 50
        },
        {
          "output_type": "display_data",
          "data": {
            "image/png": "[encoded data removed]",
            "text/plain": [
              "<Figure size 432x288 with 1 Axes>"
            ]
          },
          "metadata": {
            "tags": [],
            "needs_background": "light"
          }
        }
      ]
    },
    {
      "cell_type": "code",
      "metadata": {
        "colab": {
          "base_uri": "https://localhost:8080/"
        },
        "id": "k-o2N0y2JSh6",
        "outputId": "85b03228-975c-48f6-cf6d-4123839b37bf"
      },
      "source": [
        "cl"
      ],
      "execution_count": null,
      "outputs": [
        {
          "output_type": "execute_result",
          "data": {
            "text/plain": [
              "array(['Class2.1', 'Class2.2', 'Class7.1', 'Class7.2', 'Class7.3'],\n",
              "      dtype='<U8')"
            ]
          },
          "metadata": {
            "tags": []
          },
          "execution_count": 51
        }
      ]
    },
    {
      "cell_type": "code",
      "metadata": {
        "colab": {
          "base_uri": "https://localhost:8080/"
        },
        "id": "vGY_HD9GJUwf",
        "outputId": "131a1b2c-f07f-447a-a10f-a47b493f9045"
      },
      "source": [
        "freq"
      ],
      "execution_count": null,
      "outputs": [
        {
          "output_type": "execute_result",
          "data": {
            "text/plain": [
              "array([ 13, 374, 872, 648,   8])"
            ]
          },
          "metadata": {
            "tags": []
          },
          "execution_count": 52
        }
      ]
    },
    {
      "cell_type": "markdown",
      "metadata": {
        "id": "gRIL4-9yb4Jr"
      },
      "source": [
        "Class 25 smooth, majorith of the galaxies as indicated in the graph are circular completely and moderately. with featured galaxies spirals and lenticular.\n"
      ]
    },
    {
      "cell_type": "code",
      "metadata": {
        "colab": {
          "base_uri": "https://localhost:8080/",
          "height": 349
        },
        "id": "Vs6wpCfVJV8W",
        "outputId": "2a886a55-5b19-4fa1-a126-44ab85a6d9c1"
      },
      "source": [
        "img=sns.countplot(sep)    # class 25  center majority of the galaxies are cir\n",
        "plt.xlabel('class')\n",
        "plt.title('Number of Classes_C_CB_25')\n",
        "plt.savefig('galaxy_class_count')"
      ],
      "execution_count": null,
      "outputs": [
        {
          "output_type": "stream",
          "text": [
            "/usr/local/lib/python3.6/dist-packages/seaborn/_decorators.py:43: FutureWarning: Pass the following variable as a keyword arg: x. From version 0.12, the only valid positional argument will be `data`, and passing other arguments without an explicit keyword will result in an error or misinterpretation.\n",
            "  FutureWarning\n"
          ],
          "name": "stderr"
        },
        {
          "output_type": "display_data",
          "data": {
            "image/png": "[encoded data removed]",
            "text/plain": [
              "<Figure size 432x288 with 1 Axes>"
            ]
          },
          "metadata": {
            "tags": [],
            "needs_background": "light"
          }
        }
      ]
    },
    {
      "cell_type": "code",
      "metadata": {
        "id": "iEYvu1WWLBtW"
      },
      "source": [
        "C_CD_25=np.load('/content/drive/MyDrive/galaxy/GAL_25/C_CD_25.npy')"
      ],
      "execution_count": null,
      "outputs": []
    },
    {
      "cell_type": "code",
      "metadata": {
        "id": "-y1V9GerLjUY"
      },
      "source": [
        "C_CD_25_ind=[]                     ### seperate the index from the addresss\n",
        "for i in C_CD_25:\n",
        " #print(extind(i))\n",
        " C_CD_25_ind.append(int(extind(i)))"
      ],
      "execution_count": null,
      "outputs": []
    },
    {
      "cell_type": "code",
      "metadata": {
        "id": "ekRkBCyoL6iC",
        "colab": {
          "base_uri": "https://localhost:8080/"
        },
        "outputId": "3a8f4706-8043-4750-f78a-cc9253e7a3d3"
      },
      "source": [
        "len(C_CD_25_ind)"
      ],
      "execution_count": null,
      "outputs": [
        {
          "output_type": "execute_result",
          "data": {
            "text/plain": [
              "4045"
            ]
          },
          "metadata": {
            "tags": []
          },
          "execution_count": 60
        }
      ]
    },
    {
      "cell_type": "code",
      "metadata": {
        "id": "HaHCIXE0L8Bs",
        "colab": {
          "base_uri": "https://localhost:8080/"
        },
        "outputId": "a80c48e5-5bae-499b-d90b-7e9cdb9dde4f"
      },
      "source": [
        "C_CD_25_ind[1]"
      ],
      "execution_count": null,
      "outputs": [
        {
          "output_type": "execute_result",
          "data": {
            "text/plain": [
              "618998"
            ]
          },
          "metadata": {
            "tags": []
          },
          "execution_count": 7
        }
      ]
    },
    {
      "cell_type": "code",
      "metadata": {
        "id": "hvt-IwMjcTvh"
      },
      "source": [
        "morph=pd.read_csv('/content/drive/MyDrive/galaxy/training_solutions_rev1.csv')"
      ],
      "execution_count": null,
      "outputs": []
    },
    {
      "cell_type": "code",
      "metadata": {
        "colab": {
          "base_uri": "https://localhost:8080/",
          "height": 204
        },
        "id": "-Z2cu8MLc9zw",
        "outputId": "a919635a-c7dd-4a2c-fdeb-c3e111ee28ba"
      },
      "source": [
        "morph1=morph[['Class7.1', 'Class7.2','Class2.1','Class7.3','Class2.2']]\n",
        "morph1.head()"
      ],
      "execution_count": null,
      "outputs": [
        {
          "output_type": "execute_result",
          "data": {
            "text/html": [
              "<div>\n",
              "<style scoped>\n",
              "    .dataframe tbody tr th:only-of-type {\n",
              "        vertical-align: middle;\n",
              "    }\n",
              "\n",
              "    .dataframe tbody tr th {\n",
              "        vertical-align: top;\n",
              "    }\n",
              "\n",
              "    .dataframe thead th {\n",
              "        text-align: right;\n",
              "    }\n",
              "</style>\n",
              "<table border=\"1\" class=\"dataframe\">\n",
              "  <thead>\n",
              "    <tr style=\"text-align: right;\">\n",
              "      <th></th>\n",
              "      <th>Class7.1</th>\n",
              "      <th>Class7.2</th>\n",
              "      <th>Class2.1</th>\n",
              "      <th>Class7.3</th>\n",
              "      <th>Class2.2</th>\n",
              "    </tr>\n",
              "  </thead>\n",
              "  <tbody>\n",
              "    <tr>\n",
              "      <th>0</th>\n",
              "      <td>0.201463</td>\n",
              "      <td>0.181684</td>\n",
              "      <td>0.000000</td>\n",
              "      <td>0.000000</td>\n",
              "      <td>0.616853</td>\n",
              "    </tr>\n",
              "    <tr>\n",
              "      <th>1</th>\n",
              "      <td>0.000000</td>\n",
              "      <td>0.135082</td>\n",
              "      <td>0.031178</td>\n",
              "      <td>0.191919</td>\n",
              "      <td>0.632599</td>\n",
              "    </tr>\n",
              "    <tr>\n",
              "      <th>2</th>\n",
              "      <td>0.000000</td>\n",
              "      <td>0.741864</td>\n",
              "      <td>0.000000</td>\n",
              "      <td>0.023853</td>\n",
              "      <td>0.177352</td>\n",
              "    </tr>\n",
              "    <tr>\n",
              "      <th>3</th>\n",
              "      <td>0.408599</td>\n",
              "      <td>0.284778</td>\n",
              "      <td>0.000000</td>\n",
              "      <td>0.000000</td>\n",
              "      <td>0.238564</td>\n",
              "    </tr>\n",
              "    <tr>\n",
              "      <th>4</th>\n",
              "      <td>0.494587</td>\n",
              "      <td>0.439252</td>\n",
              "      <td>0.000000</td>\n",
              "      <td>0.000000</td>\n",
              "      <td>0.000000</td>\n",
              "    </tr>\n",
              "  </tbody>\n",
              "</table>\n",
              "</div>"
            ],
            "text/plain": [
              "   Class7.1  Class7.2  Class2.1  Class7.3  Class2.2\n",
              "0  0.201463  0.181684  0.000000  0.000000  0.616853\n",
              "1  0.000000  0.135082  0.031178  0.191919  0.632599\n",
              "2  0.000000  0.741864  0.000000  0.023853  0.177352\n",
              "3  0.408599  0.284778  0.000000  0.000000  0.238564\n",
              "4  0.494587  0.439252  0.000000  0.000000  0.000000"
            ]
          },
          "metadata": {
            "tags": []
          },
          "execution_count": 10
        }
      ]
    },
    {
      "cell_type": "markdown",
      "metadata": {
        "id": "IKUvw00GfFvc"
      },
      "source": [
        "Load the training solutions for the images and obtain the classes relevent to the analysis under consideration. ( refer Galaxy zoo tree). Here it is circularity and non cirularity"
      ]
    },
    {
      "cell_type": "code",
      "metadata": {
        "colab": {
          "base_uri": "https://localhost:8080/"
        },
        "id": "_UeCEBPEdDSR",
        "outputId": "af2fbd95-c9c8-447b-fe67-2f834927a2ef"
      },
      "source": [
        "morph=pd.read_csv('/content/drive/MyDrive/galaxy/training_solutions_rev1.csv')\n",
        "morph1=morph[['Class7.1', 'Class7.2','Class2.1','Class7.3','Class2.2']]\n",
        "colmax=morph1.idxmax(axis=1)\n",
        "colmax.column=['max']\n",
        "colmax.head()\n",
        "galid=morph['GalaxyID']\n",
        "galid.head()\n",
        "result =pd.concat([galid,colmax],axis=1)  #join two dataframes\n",
        "result.rename(columns={0:'GalaxyCLASS'})\n",
        "#result.head()\n",
        "seper = result.to_numpy()\n",
        "seper.shape"
      ],
      "execution_count": null,
      "outputs": [
        {
          "output_type": "execute_result",
          "data": {
            "text/plain": [
              "(61578, 2)"
            ]
          },
          "metadata": {
            "tags": []
          },
          "execution_count": 21
        }
      ]
    },
    {
      "cell_type": "markdown",
      "metadata": {
        "id": "6Yrm3Nonfj8V"
      },
      "source": [
        "Filter the indices which are seperated by our spectral clustering technique from the available galaxy indices"
      ]
    },
    {
      "cell_type": "code",
      "metadata": {
        "colab": {
          "base_uri": "https://localhost:8080/"
        },
        "id": "WQogVqifd1Sx",
        "outputId": "902df26a-b312-4bcd-9f87-740f88700063"
      },
      "source": [
        "sep=[]\n",
        "for i in C_CD_25_ind:\n",
        "  for j in seper:\n",
        "   if i == j[0]:\n",
        "     sep.append(j[1])\n",
        "len(sep)"
      ],
      "execution_count": null,
      "outputs": [
        {
          "output_type": "execute_result",
          "data": {
            "text/plain": [
              "4045"
            ]
          },
          "metadata": {
            "tags": []
          },
          "execution_count": 22
        }
      ]
    },
    {
      "cell_type": "code",
      "metadata": {
        "colab": {
          "base_uri": "https://localhost:8080/",
          "height": 349
        },
        "id": "r-Vg3KxqepmV",
        "outputId": "7220abbc-d09c-448e-fb2b-778b69a058a9"
      },
      "source": [
        "img=sns.countplot(sep)    # class 25  center majority of the galaxies are cir\n",
        "plt.xlabel('class')\n",
        "plt.title('Number of Classes_C_CD_25')\n",
        "plt.savefig('galaxy_class_count')"
      ],
      "execution_count": null,
      "outputs": [
        {
          "output_type": "stream",
          "text": [
            "/usr/local/lib/python3.6/dist-packages/seaborn/_decorators.py:43: FutureWarning: Pass the following variable as a keyword arg: x. From version 0.12, the only valid positional argument will be `data`, and passing other arguments without an explicit keyword will result in an error or misinterpretation.\n",
            "  FutureWarning\n"
          ],
          "name": "stderr"
        },
        {
          "output_type": "display_data",
          "data": {
            "image/png": "[encoded data removed]",
            "text/plain": [
              "<Figure size 432x288 with 1 Axes>"
            ]
          },
          "metadata": {
            "tags": [],
            "needs_background": "light"
          }
        }
      ]
    },
    {
      "cell_type": "markdown",
      "metadata": {
        "id": "mwh6OaT8gvKE"
      },
      "source": [
        "Featured galaxies are higher in number compared to non featured galaxies. However one can see the inclination towards the circular shapes present within the structure"
      ]
    },
    {
      "cell_type": "code",
      "metadata": {
        "id": "l5vx65d0hHgX"
      },
      "source": [
        "F_CB_25=np.load('/content/drive/MyDrive/galaxy/GAL_25/F_CB_25.npy')  # The galaxies that belong to the\n",
        "L_CB_25=np.load('/content/drive/MyDrive/galaxy/GAL_25/L_CB_25.npy')\n",
        "R_CB_25=np.load('/content/drive/MyDrive/galaxy/GAL_25/R_CB_25.npy')\n",
        "\n"
      ],
      "execution_count": null,
      "outputs": []
    },
    {
      "cell_type": "code",
      "metadata": {
        "id": "bjm_W459zXYw"
      },
      "source": [
        "E_ON=np.concatenate([F_CB_25,L_CB_25,R_CB_25])"
      ],
      "execution_count": null,
      "outputs": []
    },
    {
      "cell_type": "code",
      "metadata": {
        "colab": {
          "base_uri": "https://localhost:8080/"
        },
        "id": "jw2wgaC2zf5I",
        "outputId": "94577886-e627-4928-9d31-c1615870850c"
      },
      "source": [
        "E_ON_ind=[]                     ### seperate the index from the addresss\n",
        "for i in E_ON:\n",
        " #print(extind(i))\n",
        " E_ON_ind.append(int(extind(i)))\n",
        "len(E_ON_ind)"
      ],
      "execution_count": null,
      "outputs": [
        {
          "output_type": "execute_result",
          "data": {
            "text/plain": [
              "1251"
            ]
          },
          "metadata": {
            "tags": []
          },
          "execution_count": 29
        }
      ]
    },
    {
      "cell_type": "code",
      "metadata": {
        "colab": {
          "base_uri": "https://localhost:8080/"
        },
        "id": "mQyrpEbD0YSS",
        "outputId": "8fed7c27-da67-4233-e16b-94eea0115837"
      },
      "source": [
        "len(seper)"
      ],
      "execution_count": null,
      "outputs": [
        {
          "output_type": "execute_result",
          "data": {
            "text/plain": [
              "61578"
            ]
          },
          "metadata": {
            "tags": []
          },
          "execution_count": 30
        }
      ]
    },
    {
      "cell_type": "code",
      "metadata": {
        "colab": {
          "base_uri": "https://localhost:8080/"
        },
        "id": "gQHxdPEbzibJ",
        "outputId": "dcf32f2f-187f-4a08-cdae-e2b59343120e"
      },
      "source": [
        "sepeon=[]\n",
        "for i in E_ON_ind:\n",
        "  for j in seper:\n",
        "   if i == j[0]:\n",
        "     sepeon.append(j[1])\n",
        "len(sepeon)"
      ],
      "execution_count": null,
      "outputs": [
        {
          "output_type": "execute_result",
          "data": {
            "text/plain": [
              "1251"
            ]
          },
          "metadata": {
            "tags": []
          },
          "execution_count": 31
        }
      ]
    },
    {
      "cell_type": "code",
      "metadata": {
        "colab": {
          "base_uri": "https://localhost:8080/",
          "height": 35
        },
        "id": "tWHvdqQ607js",
        "outputId": "b440cdbe-fd71-4e5c-9fa4-07f342ad1d85"
      },
      "source": [
        "sepeon[1]"
      ],
      "execution_count": null,
      "outputs": [
        {
          "output_type": "execute_result",
          "data": {
            "application/vnd.google.colaboratory.intrinsic+json": {
              "type": "string"
            },
            "text/plain": [
              "'Class7.2'"
            ]
          },
          "metadata": {
            "tags": []
          },
          "execution_count": 32
        }
      ]
    },
    {
      "cell_type": "code",
      "metadata": {
        "colab": {
          "base_uri": "https://localhost:8080/",
          "height": 349
        },
        "id": "SM9ksPJW09Ev",
        "outputId": "f07da592-4cba-402e-bc48-7e9fe32bc78a"
      },
      "source": [
        "img=sns.countplot(sepeon)\n",
        "plt.xlabel('class')\n",
        "plt.title('Number of Classes_E_ON_25')\n",
        "plt.savefig('galaxy_class_count')"
      ],
      "execution_count": null,
      "outputs": [
        {
          "output_type": "stream",
          "text": [
            "/usr/local/lib/python3.6/dist-packages/seaborn/_decorators.py:43: FutureWarning: Pass the following variable as a keyword arg: x. From version 0.12, the only valid positional argument will be `data`, and passing other arguments without an explicit keyword will result in an error or misinterpretation.\n",
            "  FutureWarning\n"
          ],
          "name": "stderr"
        },
        {
          "output_type": "display_data",
          "data": {
            "image/png": "[encoded data removed]",
            "text/plain": [
              "<Figure size 432x288 with 1 Axes>"
            ]
          },
          "metadata": {
            "tags": [],
            "needs_background": "light"
          }
        }
      ]
    }
  ]
}